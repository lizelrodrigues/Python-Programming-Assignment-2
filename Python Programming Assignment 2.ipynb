{
 "cells": [
  {
   "cell_type": "code",
   "execution_count": null,
   "id": "37018e7f",
   "metadata": {},
   "outputs": [],
   "source": [
    "#Python Programming Assignment 2"
   ]
  },
  {
   "cell_type": "markdown",
   "id": "e1da361e",
   "metadata": {},
   "source": [
    "1.Write a Python program to convert kilometers to miles?"
   ]
  },
  {
   "cell_type": "code",
   "execution_count": 2,
   "id": "e49e3888",
   "metadata": {},
   "outputs": [
    {
     "name": "stdout",
     "output_type": "stream",
     "text": [
      "enter the distance in km: 20\n",
      "20.0 km is 12.42742 miles\n"
     ]
    }
   ],
   "source": [
    "km=float(input(\"enter the distance in km: \"))\n",
    "miles=0.621371*km\n",
    "print(km,\"km is\",miles,\"miles\")"
   ]
  },
  {
   "cell_type": "markdown",
   "id": "8bec0c71",
   "metadata": {},
   "source": [
    "2.Write a Python program to convert Celsius to Fahrenheit?"
   ]
  },
  {
   "cell_type": "code",
   "execution_count": 3,
   "id": "bff9f94b",
   "metadata": {},
   "outputs": [
    {
     "name": "stdout",
     "output_type": "stream",
     "text": [
      "enter the temperature in Celsius: 35\n",
      "35.0 Celsius is 95.0 F\n"
     ]
    }
   ],
   "source": [
    "celsius=float(input(\"enter the temperature in Celsius: \"))\n",
    "fahrenheit=1.8*celsius+32\n",
    "print(celsius,\"Celsius is\",fahrenheit,\"Fahrenheit\")"
   ]
  },
  {
   "cell_type": "markdown",
   "id": "79e17f5c",
   "metadata": {},
   "source": [
    "3.Write a Python program to display calendar?"
   ]
  },
  {
   "cell_type": "code",
   "execution_count": 7,
   "id": "96adb976",
   "metadata": {},
   "outputs": [
    {
     "name": "stdout",
     "output_type": "stream",
     "text": [
      "Enter the year: 2001\n",
      "Enter the month number: 1\n",
      "    January 2001\n",
      "Mo Tu We Th Fr Sa Su\n",
      " 1  2  3  4  5  6  7\n",
      " 8  9 10 11 12 13 14\n",
      "15 16 17 18 19 20 21\n",
      "22 23 24 25 26 27 28\n",
      "29 30 31\n",
      "\n"
     ]
    }
   ],
   "source": [
    "import calendar\n",
    "#if we write tuesday the calendar will start with tuesday \n",
    "c= calendar.TextCalendar(calendar.MONDAY)\n",
    "calendar = c.formatmonth(int(input(\"Enter the year: \")),int(input(\"Enter the month number: \")))\n",
    "print(calendar)\n"
   ]
  },
  {
   "cell_type": "markdown",
   "id": "aacc4773",
   "metadata": {},
   "source": [
    "4.Write a Python program to solve quadratic equation?"
   ]
  },
  {
   "cell_type": "code",
   "execution_count": 3,
   "id": "3beed987",
   "metadata": {},
   "outputs": [
    {
     "name": "stdout",
     "output_type": "stream",
     "text": [
      "Enter the numbers a b c: 1 -6 9\n",
      "Solutions of the quadratic equation are 3.0 and 3.0\n"
     ]
    }
   ],
   "source": [
    "a,b,c= [int(a) for a in input(\"Enter the numbers a b c: \").split()]\n",
    "solution1 = ((-b +(b ** 2 - 4 * a * c) ** 0.5) / 2 * a)\n",
    "solution2 = ((-b -(b ** 2 - 4 * a * c) ** 0.5) / 2 * a)\n",
    "print(\"Solutions of the quadratic equation are {} and {}\".format(solution1,solution2))"
   ]
  },
  {
   "cell_type": "markdown",
   "id": "3dc9bc17",
   "metadata": {},
   "source": [
    "5.Write a Python program to swap two variables without temp variable?"
   ]
  },
  {
   "cell_type": "code",
   "execution_count": 5,
   "id": "785140b9",
   "metadata": {},
   "outputs": [
    {
     "name": "stdout",
     "output_type": "stream",
     "text": [
      "enter the first variable: 1\n",
      "enter the second variable: 5\n",
      "After swapping\n",
      "The first variable is  5\n",
      "The second variable is  1\n"
     ]
    }
   ],
   "source": [
    "a=int(input(\"enter the first variable: \"))\n",
    "b=int(input(\"enter the second variable: \"))\n",
    "print(\"After swapping\")\n",
    "print(\"The first variable is \",b)\n",
    "print(\"The second variable is \",a)"
   ]
  }
 ],
 "metadata": {
  "kernelspec": {
   "display_name": "Python 3 (ipykernel)",
   "language": "python",
   "name": "python3"
  },
  "language_info": {
   "codemirror_mode": {
    "name": "ipython",
    "version": 3
   },
   "file_extension": ".py",
   "mimetype": "text/x-python",
   "name": "python",
   "nbconvert_exporter": "python",
   "pygments_lexer": "ipython3",
   "version": "3.9.7"
  }
 },
 "nbformat": 4,
 "nbformat_minor": 5
}
